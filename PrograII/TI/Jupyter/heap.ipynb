{
 "cells": [
  {
   "cell_type": "markdown",
   "metadata": {},
   "source": [
    "El módulo heapq permite implementar algoritmos de cola de prioridad más complejo que la cola"
   ]
  },
  {
   "cell_type": "code",
   "execution_count": 76,
   "metadata": {},
   "outputs": [],
   "source": [
    "import heapq\n",
    "from heapq import *"
   ]
  },
  {
   "cell_type": "markdown",
   "metadata": {},
   "source": [
    "Se crea el montículo con la función heappify del módulo heapq "
   ]
  },
  {
   "cell_type": "code",
   "execution_count": 77,
   "metadata": {},
   "outputs": [],
   "source": [
    "heap = []\n",
    "heapify(heap)"
   ]
  },
  {
   "cell_type": "markdown",
   "metadata": {},
   "source": [
    "Se insertan los valores al montículo utilizando la función heappush(deben ser del mismo tipo de dato de lo contrario, dara un \"TypeError\")"
   ]
  },
  {
   "cell_type": "code",
   "execution_count": 78,
   "metadata": {},
   "outputs": [],
   "source": [
    "heappush(heap, 0)\n",
    "heappush(heap, 5.75)\n",
    "heappush(heap, -50)\n",
    "heappush(heap, 30)\n",
    "heappush(heap, 20)\n",
    "heappush(heap, 400)\n",
    "# heappush(heap, \"B\")\n",
    "# heappush(heap, \"A\")\n",
    "# heappush(heap, \"E\")\n",
    "# heappush(heap, \"D\")\n",
    "# heappush(heap, \"C\")"
   ]
  },
  {
   "cell_type": "markdown",
   "metadata": {},
   "source": [
    "Se imprimen los valores del montículo"
   ]
  },
  {
   "cell_type": "code",
   "execution_count": 79,
   "metadata": {},
   "outputs": [
    {
     "name": "stdout",
     "output_type": "stream",
     "text": [
      "The heap elements : \n",
      "-50 5.75 0 30 20 400 \n",
      "\n"
     ]
    }
   ],
   "source": [
    "print(\"The heap elements : \")\n",
    "for i in heap:\n",
    "    print(i, end = ' ')\n",
    "print(\"\\n\")"
   ]
  },
  {
   "cell_type": "markdown",
   "metadata": {},
   "source": [
    "Se imprime el minheap (valor/es menor/es del heap)"
   ]
  },
  {
   "cell_type": "code",
   "execution_count": 80,
   "metadata": {},
   "outputs": [
    {
     "name": "stdout",
     "output_type": "stream",
     "text": [
      "Head value of min heap : [-50]\n"
     ]
    }
   ],
   "source": [
    "print(\"Head value of min heap : \" + str(heapq.nsmallest(1, heap)))"
   ]
  },
  {
   "cell_type": "markdown",
   "metadata": {},
   "source": [
    "Se utiliza la función heappop para eliminar el head value del montículo elemento del montículo."
   ]
  },
  {
   "cell_type": "code",
   "execution_count": 81,
   "metadata": {},
   "outputs": [
    {
     "name": "stdout",
     "output_type": "stream",
     "text": [
      "-50\n"
     ]
    }
   ],
   "source": [
    "element = heappop(heap)\n",
    "print(str(element))"
   ]
  }
 ],
 "metadata": {
  "kernelspec": {
   "display_name": "Python 3.10.5 64-bit",
   "language": "python",
   "name": "python3"
  },
  "language_info": {
   "codemirror_mode": {
    "name": "ipython",
    "version": 3
   },
   "file_extension": ".py",
   "mimetype": "text/x-python",
   "name": "python",
   "nbconvert_exporter": "python",
   "pygments_lexer": "ipython3",
   "version": "3.10.5"
  },
  "orig_nbformat": 4,
  "vscode": {
   "interpreter": {
    "hash": "e7370f93d1d0cde622a1f8e1c04877d8463912d04d973331ad4851f04de6915a"
   }
  }
 },
 "nbformat": 4,
 "nbformat_minor": 2
}

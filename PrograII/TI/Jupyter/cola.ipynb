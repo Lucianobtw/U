{
 "cells": [
  {
   "cell_type": "markdown",
   "metadata": {},
   "source": [
    "La cola(queue) funciona según el principio de (First In, First Out).<br>\n",
    "A continuación se muestra la implementación de la cola."
   ]
  },
  {
   "cell_type": "code",
   "execution_count": 1,
   "metadata": {},
   "outputs": [],
   "source": [
    "import random as ra"
   ]
  },
  {
   "cell_type": "markdown",
   "metadata": {},
   "source": [
    "Se crea la cola (queue) añadiendo numeros aleatorios  al final de esta."
   ]
  },
  {
   "cell_type": "code",
   "execution_count": 2,
   "metadata": {},
   "outputs": [
    {
     "name": "stdout",
     "output_type": "stream",
     "text": [
      "[8, 2, 3, 1, 8]\n"
     ]
    }
   ],
   "source": [
    "queue = []\n",
    "for x in range(5):\n",
    "    queue.append(ra.randint(0,10))\n",
    "\n",
    "print(queue)"
   ]
  },
  {
   "cell_type": "markdown",
   "metadata": {},
   "source": [
    "Iterativamente se quita el primer elemento de la cola."
   ]
  },
  {
   "cell_type": "code",
   "execution_count": 3,
   "metadata": {},
   "outputs": [
    {
     "name": "stdout",
     "output_type": "stream",
     "text": [
      "8\n",
      "2\n",
      "3\n",
      "1\n",
      "8\n"
     ]
    }
   ],
   "source": [
    "for j in range(5):\n",
    "    print(queue.pop(0))"
   ]
  },
  {
   "cell_type": "markdown",
   "metadata": {},
   "source": [
    "![queue.png](./img/queue.png)"
   ]
  },
  {
   "cell_type": "markdown",
   "metadata": {},
   "source": [
    "Si se ejecuta la siguiente sentencia ¨queue.pop(0)¨ dara un Index Error\n",
    "por falta de elementos en la cola.\n",
    "\n",
    "try except para evitar que el programa deje de funcionar."
   ]
  },
  {
   "cell_type": "code",
   "execution_count": 4,
   "metadata": {},
   "outputs": [
    {
     "name": "stdout",
     "output_type": "stream",
     "text": [
      "queue is empty\n"
     ]
    }
   ],
   "source": [
    "try:\n",
    "    queue.pop()\n",
    "except IndexError:\n",
    "    print(\"Queue is empty\")\n",
    "except:\n",
    "    print(\"Something else went wrong\")"
   ]
  }
 ],
 "metadata": {
  "kernelspec": {
   "display_name": "Python 3.10.5 64-bit",
   "language": "python",
   "name": "python3"
  },
  "language_info": {
   "codemirror_mode": {
    "name": "ipython",
    "version": 3
   },
   "file_extension": ".py",
   "mimetype": "text/x-python",
   "name": "python",
   "nbconvert_exporter": "python",
   "pygments_lexer": "ipython3",
   "version": "3.10.5"
  },
  "orig_nbformat": 4,
  "vscode": {
   "interpreter": {
    "hash": "e7370f93d1d0cde622a1f8e1c04877d8463912d04d973331ad4851f04de6915a"
   }
  }
 },
 "nbformat": 4,
 "nbformat_minor": 2
}

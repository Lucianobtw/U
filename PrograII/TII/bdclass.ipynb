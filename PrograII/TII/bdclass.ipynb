{
 "cells": [
  {
   "cell_type": "code",
   "execution_count": 6,
   "metadata": {},
   "outputs": [],
   "source": [
    "from dataclasses import dataclass\n",
    "import mysql.connector as mysql\n",
    "import matplotlib.pyplot as plt"
   ]
  },
  {
   "cell_type": "markdown",
   "metadata": {},
   "source": [
    "La clase student es una clase que se encarga de crear un objeto (estudiante) con sus atributos (id, name, lname, mail, age)."
   ]
  },
  {
   "cell_type": "code",
   "execution_count": 7,
   "metadata": {},
   "outputs": [],
   "source": [
    "@dataclass\n",
    "\n",
    "class student:\n",
    "    \n",
    "    id: int ; name: str ; lname: str ; email: str ; age: int"
   ]
  },
  {
   "cell_type": "markdown",
   "metadata": {},
   "source": [
    "Para conectarse a la base de datos (mysql) se utiliza la libreria \"mysql.connector\"\n",
    "Para conectarse a una bd debe utilizar la funcion \"mysql.connect\" en donde se debe indicar: \n",
    "\n",
    "- host de la bd\n",
    "- username\n",
    "- password\n",
    "- bd name\n",
    "\n",
    "Además mediante las funciones cursor y execute la libreria permite ejecutar comandos sql (SELECT * FROM student)."
   ]
  },
  {
   "cell_type": "code",
   "execution_count": 8,
   "metadata": {},
   "outputs": [
    {
     "name": "stdout",
     "output_type": "stream",
     "text": [
      "\n",
      "Se ha conectado a la base de datos\n"
     ]
    }
   ],
   "source": [
    "try:\n",
    "    mydb = mysql.connect(\n",
    "        host='localhost',\n",
    "        user='root',\n",
    "        passwd='',\n",
    "        database='Dataclasses'\n",
    "        )\n",
    "        \n",
    "    if mydb.is_connected():\n",
    "        print('\\nSe ha conectado a la base de datos\\n')\n",
    "\n",
    "    mycursor = mydb.cursor()\n",
    "    mycursor.execute(\"SELECT * FROM student\")\n",
    "    sentence = mycursor.fetchall()\n",
    "\n",
    "except mysql.Error as x:\n",
    "    print(x) ; exit(1)"
   ]
  },
  {
   "cell_type": "markdown",
   "metadata": {},
   "source": [
    "La funcion main se encarga de procesar los datos recibidos a traves del comando sql (sentence).\n",
    "En el caso de que el archivo supere los 100 objetos se eliminara (para evitar objetos duplicados).\n",
    "Luego se crea un archivo donde se escribiran los datos.\n",
    "La sentencia arrojara multiples listas con los datos de la tabla, de esta forma se pueden asignar datos a los distintos atributos de la clase student.\n",
    "\n",
    "Con el metodo f string se escribe cada objeto en el archivo \"student.txt\"\n",
    "Si se desea ver cada objeto con sus atributos, debe descomentar la linea \"#print(object)\""
   ]
  },
  {
   "cell_type": "code",
   "execution_count": 9,
   "metadata": {},
   "outputs": [],
   "source": [
    "def main():\n",
    "    with open('student.txt', 'a') as x:\n",
    "        for i in sentence:\n",
    "            object = (student(i[0], i[1], i[2], i[3], i[4]))\n",
    "            x.write(f'{object.id} {object.name} {object.lname} {object.email} {object.age}\\n')\n",
    "            \n",
    "            #print(object)"
   ]
  },
  {
   "cell_type": "code",
   "execution_count": 10,
   "metadata": {},
   "outputs": [],
   "source": [
    "if __name__ == \"__main__\":\n",
    "    main()"
   ]
  }
 ],
 "metadata": {
  "kernelspec": {
   "display_name": "Python 3.10.5 64-bit",
   "language": "python",
   "name": "python3"
  },
  "language_info": {
   "codemirror_mode": {
    "name": "ipython",
    "version": 3
   },
   "file_extension": ".py",
   "mimetype": "text/x-python",
   "name": "python",
   "nbconvert_exporter": "python",
   "pygments_lexer": "ipython3",
   "version": "3.10.5"
  },
  "orig_nbformat": 4,
  "vscode": {
   "interpreter": {
    "hash": "e7370f93d1d0cde622a1f8e1c04877d8463912d04d973331ad4851f04de6915a"
   }
  }
 },
 "nbformat": 4,
 "nbformat_minor": 2
}

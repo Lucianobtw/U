{
 "cells": [
  {
   "cell_type": "code",
   "execution_count": 1,
   "metadata": {},
   "outputs": [],
   "source": [
    "from dataclasses import dataclass\n",
    "import mysql.connector as mysql\n",
    "import matplotlib.pyplot as plt"
   ]
  },
  {
   "cell_type": "markdown",
   "metadata": {},
   "source": [
    "La clase student es una clase que se encarga de crear un objeto (estudiante) con sus atributos (id, name, lname, mail, age)."
   ]
  },
  {
   "cell_type": "code",
   "execution_count": 2,
   "metadata": {},
   "outputs": [],
   "source": [
    "@dataclass\n",
    "\n",
    "class student:\n",
    "    \n",
    "    id: int ; name: str ; lname: str ; email: str ; age: int"
   ]
  },
  {
   "cell_type": "markdown",
   "metadata": {},
   "source": [
    "Para conectarse a la base de datos (mysql) se utiliza la libreria \"mysql.connector\"\n",
    "Para conectarse a una bd debe utilizar la funcion \"mysql.connect\" en donde se debe indicar: \n",
    "\n",
    "- host de la bd\n",
    "- username\n",
    "- password\n",
    "- bd name\n",
    "\n",
    "Además mediante las funciones cursor y execute la libreria permite ejecutar comandos sql (SELECT * FROM student)."
   ]
  },
  {
   "cell_type": "code",
   "execution_count": 3,
   "metadata": {},
   "outputs": [
    {
     "name": "stdout",
     "output_type": "stream",
     "text": [
      "1049 (42000): Unknown database 'dataclasses'\n"
     ]
    }
   ],
   "source": [
    "try:\n",
    "    mydb = mysql.connect(\n",
    "        host='localhost',\n",
    "        user='root',\n",
    "        passwd='',\n",
    "        database='Dataclasses'\n",
    "        )\n",
    "        \n",
    "    if mydb.is_connected():\n",
    "        print('\\nSe ha conectado a la base de datos\\n')\n",
    "\n",
    "    mycursor = mydb.cursor()\n",
    "    mycursor.execute(\"SELECT * FROM student\")\n",
    "    sentence = mycursor.fetchall()\n",
    "\n",
    "except mysql.Error as x:\n",
    "    print(x) ; exit(1)"
   ]
  },
  {
   "cell_type": "markdown",
   "metadata": {},
   "source": [
    "La funcion main se encarga de procesar los datos recibidos a traves del comando sql (sentence) y graficar los histogramas.\n",
    "En el caso de que el archivo supere los 100 objetos se eliminara (para evitar objetos duplicados).\n",
    "Luego se crea un archivo donde se escribiran los datos.\n",
    "La sentencia arrojara multiples listas con los datos de la tabla, de esta forma se pueden asignar datos a los distintos atributos de la clase student\n",
    "para utilizarlo como un objeto.\n",
    "\n",
    "Con el metodo f string se escribe cada objeto en el archivo \"student.txt\"\n",
    "Si se desea ver cada objeto con sus atributos, debe descomentar la linea \"#print(object)\"\n",
    "\n",
    "La variable matrix se utiliza para que la función hist() intérprete los valores de cada atributo del objeto.\n",
    "\n",
    ".-plt.subplot(#,#,#) : Los dos primeros parametros dividen la ventana en filas y columnas , el tercero asigna la posición dentro de la cuadricula.\n",
    "\n",
    ".-plt.tittle(\"%\") : Asigna un titulo al histograma que lo procede.\n",
    "\n",
    ".-plt.ylim() : Con los parametros top y bottom asignamos el rango contenido del eje y.\n",
    "\n",
    ".-plt.yticks([#,...]) : Se le da un arreglo con los valores que se requiere mostrar en el eje y.\n",
    "\n",
    ".-plt.xticks(rotation= ###) : Recibe un angulo en el cual se van a mostrar los valores del eje x.\n",
    "\n",
    ".-plt.xticks([#,...]) : Se le da un arreglo con los valores que se requiere mostrar en el eje x.\n",
    "\n",
    ".-plt.hist() : Recibe la matriz con los datos a graficar y los posiciona ordenadamente a travez del gráfico.\n",
    "\n",
    ".-plt.show() : Muestra los graficos en pantalla."
   ]
  },
  {
   "cell_type": "code",
   "execution_count": 4,
   "metadata": {},
   "outputs": [],
   "source": [
    "def main():\n",
    "    matrix = []\n",
    "    with open('student.txt', 'a') as x:\n",
    "        for y in range(5):\n",
    "            matrix.append([])\n",
    "        for i in sentence:\n",
    "            object = (student(i[0], i[1], i[2], i[3], i[4]))\n",
    "            x.write(f'{object.id} {object.name} {object.lname} {object.email} {object.age}\\n')\n",
    "            \n",
    "            #print(object)\n",
    "\n",
    "            matrix[0].insert(0, object.id)\n",
    "            matrix[1].insert(1, object.name)\n",
    "            matrix[2].insert(2, object.lname)\n",
    "            matrix[3].insert(3, object.email)\n",
    "            matrix[4].insert(4, object.age)\n",
    "\n",
    "    plt.subplot(1,5,1)\n",
    "    plt.title(\"Id\")\n",
    "    plt.hist(matrix[0])\n",
    "\n",
    "    plt.subplot(1,5,2)\n",
    "    plt.title(\"Names\")\n",
    "    plt.ylim(top=1,bottom=0)\n",
    "    plt.yticks([0,1])\n",
    "    plt.xticks(rotation=90)\n",
    "    plt.xticks([1,10,20,30,40,50,60,70,80,90])\n",
    "    plt.hist(matrix[1])\n",
    "\n",
    "    plt.subplot(1,5,3)\n",
    "    plt.title(\"Last Names\")\n",
    "    plt.ylim(top=1,bottom=0)\n",
    "    plt.yticks([0,1])\n",
    "    plt.xticks(rotation=90)\n",
    "    plt.xticks([1,10,20,30,40,50,60,70,80,90])\n",
    "    plt.hist(matrix[2])\n",
    "    \n",
    "    plt.subplot(1,5,4)\n",
    "    plt.title(\"Emails\")\n",
    "    plt.ylim(top=1,bottom=0)\n",
    "    plt.yticks([0,1])\n",
    "    plt.xticks(rotation=90)\n",
    "    plt.xticks([1,10,20,30,40,50,60,70,80,90])\n",
    "    plt.hist(matrix[3])\n",
    "\n",
    "    plt.subplot(1,5,5)\n",
    "    plt.title(\"Ages\")\n",
    "    plt.hist(matrix[4])\n",
    "\n",
    "    plt.show()"
   ]
  },
  {
   "cell_type": "code",
   "execution_count": null,
   "metadata": {},
   "outputs": [],
   "source": [
    "if __name__ == \"__main__\":\n",
    "    main()"
   ]
  }
 ],
 "metadata": {
  "kernelspec": {
   "display_name": "Python 3.10.6 64-bit",
   "language": "python",
   "name": "python3"
  },
  "language_info": {
   "codemirror_mode": {
    "name": "ipython",
    "version": 3
   },
   "file_extension": ".py",
   "mimetype": "text/x-python",
   "name": "python",
   "nbconvert_exporter": "python",
   "pygments_lexer": "ipython3",
   "version": "3.10.6"
  },
  "orig_nbformat": 4,
  "vscode": {
   "interpreter": {
    "hash": "926e939d685937c803938b56c0f82706603839d9cda4029b390c14b822c17672"
   }
  }
 },
 "nbformat": 4,
 "nbformat_minor": 2
}

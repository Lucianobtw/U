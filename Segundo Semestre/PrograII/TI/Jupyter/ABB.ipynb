{
 "cells": [
  {
   "cell_type": "markdown",
   "metadata": {},
   "source": [
    "Arbol Binario de Busqueda\n",
    "\n",
    "Los \"Arboles\" son estructuras donde los datos se organizan jerarquícamente\n",
    "y estan vinculados entre sí<br>\n",
    "(se diferencian de las listas enlazadas \n",
    "ya que estas estan enlazadas de forma lineal). <br>\n",
    "Existen distintos tipos de arboles binarios, en esta ocasión utilizaremos\n",
    "arboles de busqueda binaria, que tienen una propiedad única llamada\n",
    "propiedad del árbol de búsqueda binaria la cual consiste en: <br><br>\n",
    "1.-si el Hi existe, debe ser un ABB y ser menor a la R.<br>\n",
    "2.-si el Hd existe, debe ser un ABB y ser mayor a la R.<br>\n",
    "\n",
    "Estos son utiles porque proporcionan los elementos ordenados de forma\n",
    "ascendente.<br>"
   ]
  },
  {
   "cell_type": "markdown",
   "metadata": {},
   "source": [
    "\n",
    "![tree.png](img/tree.png)"
   ]
  },
  {
   "cell_type": "code",
   "execution_count": 4,
   "metadata": {},
   "outputs": [
    {
     "name": "stdout",
     "output_type": "stream",
     "text": [
      "No se puede repetir un elemento: 7\n",
      "Los valores del ABB son:\n",
      "-3\n",
      "5\n",
      "7\n",
      "8\n",
      "10\n",
      "13\n",
      "20\n",
      "100\n"
     ]
    }
   ],
   "source": [
    "class binarytree:\n",
    "    \n",
    "    \"\"\"La clase binarytree tiene su raiz, hijo izquierdo e hijo derecho.\n",
    "    La raiz al llamar a la clase se le asigna un valor, por lo contrario\n",
    "    el arbol binario no tendra hijos\"\"\"\n",
    "\n",
    "    def __init__(self, val = None):\n",
    "        if val != None:\n",
    "            self.val = val\n",
    "        else:\n",
    "            self.val = None \n",
    "        self.left = None\n",
    "        self.right = None\n",
    "\n",
    "    \"\"\"para insertar un valor la función recorre el arbol.\n",
    "    lo primero que hace es verificar si en el nodo actual hay un\n",
    "    valor, si no hay le asigna el valor a ese nodo, por lo contrario\n",
    "    si el valor es menor que el valor del nodo verifica que la\n",
    "    izquierda del nodo padre(en ese momento) este \"vacio\" si lo esta,\n",
    "    a travez de la recursividad asigna el valor a el hijo izquierdo\n",
    "    de ese nodo padre, si no llama a la función insert pero ahora el\n",
    "    nodo padre es el hijo izquierdo de la operación anterior. cuando\n",
    "    el valor es mayor ocurre lo mismo pero con el hijo derecho\"\"\"\n",
    "\n",
    "    def Insert(self, val):\n",
    "        if self.val:\n",
    "            if self.val == val:\n",
    "                print(f\"No se puede repetir un elemento: {val}\")\n",
    "            if val < self.val:\n",
    "                if self.left is None:\n",
    "                    self.left = binarytree(val)\n",
    "                else:\n",
    "                    self.left.Insert(val)\n",
    "            elif val > self.val:\n",
    "                if self.right is None:\n",
    "                    self.right = binarytree(val)\n",
    "                else:\n",
    "                    self.right.Insert(val)\n",
    "        else:\n",
    "            self.val = val\n",
    "\n",
    "    \"\"\"Para imprimir un arbol binario de búsqueda se recorre de izquierda\n",
    "    a derecha y de abajo hacia arriba\n",
    "    Si hay un nodo a la izquierda del nodo padre, vuelve a llamar a la\n",
    "    función y ese nodo a la izquierda pasa a ser el nuevo nodo padre,\n",
    "    y asi sucecivamente hasta llegar a la derecha.\"\"\"\n",
    "\n",
    "    def PrintValues(self):\n",
    "        if self.left:\n",
    "            self.left.PrintValues()\n",
    "\n",
    "        print(self.val)\n",
    "\n",
    "        if self.right:\n",
    "            self.right.PrintValues()\n",
    "\n",
    "# tree = binarytree(\"F\")\n",
    "tree = binarytree(8)\n",
    "if tree.val == None:\n",
    "    print(tree.val)\n",
    "else:\n",
    "    tree.left = binarytree(5)\n",
    "    tree.right = binarytree(10)\n",
    "    # tree.left = binarytree(\"C\")\n",
    "    # tree.right = binarytree(\"I\")\n",
    "    # tree.Insert(\"A\")\n",
    "    # tree.Insert(\"K\")\n",
    "    # tree.Insert(\"H\")\n",
    "    # tree.Insert(\"D\")\n",
    "    tree.Insert(20)\n",
    "    tree.Insert(7)\n",
    "    tree.Insert(-3)\n",
    "    tree.Insert(100)\n",
    "    tree.Insert(7)\n",
    "    tree.Insert(13)\n",
    "    print(\"Los valores del ABB son:\")\n",
    "    tree.PrintValues()"
   ]
  }
 ],
 "metadata": {
  "kernelspec": {
   "display_name": "Python 3.10.5 64-bit",
   "language": "python",
   "name": "python3"
  },
  "language_info": {
   "codemirror_mode": {
    "name": "ipython",
    "version": 3
   },
   "file_extension": ".py",
   "mimetype": "text/x-python",
   "name": "python",
   "nbconvert_exporter": "python",
   "pygments_lexer": "ipython3",
   "version": "3.10.5"
  },
  "orig_nbformat": 4,
  "vscode": {
   "interpreter": {
    "hash": "e7370f93d1d0cde622a1f8e1c04877d8463912d04d973331ad4851f04de6915a"
   }
  }
 },
 "nbformat": 4,
 "nbformat_minor": 2
}
